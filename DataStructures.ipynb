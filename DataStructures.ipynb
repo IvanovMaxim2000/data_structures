{
  "nbformat": 4,
  "nbformat_minor": 0,
  "metadata": {
    "colab": {
      "provenance": [],
      "authorship_tag": "ABX9TyOQ9id/bNCeKUHhps6EK70X",
      "include_colab_link": true
    },
    "kernelspec": {
      "name": "python3",
      "display_name": "Python 3"
    },
    "language_info": {
      "name": "python"
    }
  },
  "cells": [
    {
      "cell_type": "markdown",
      "metadata": {
        "id": "view-in-github",
        "colab_type": "text"
      },
      "source": [
        "<a href=\"https://colab.research.google.com/github/IvanovMaxim2000/data_structures/blob/main/DataStructures.ipynb\" target=\"_parent\"><img src=\"https://colab.research.google.com/assets/colab-badge.svg\" alt=\"Open In Colab\"/></a>"
      ]
    },
    {
      "cell_type": "markdown",
      "source": [
        "# Реализация Stack'а"
      ],
      "metadata": {
        "id": "2WUepJx5hyuu"
      }
    },
    {
      "cell_type": "code",
      "source": [
        "from typing import Any, Generator"
      ],
      "metadata": {
        "id": "B6taKva8jp6r"
      },
      "execution_count": null,
      "outputs": []
    },
    {
      "cell_type": "markdown",
      "source": [
        "## Определяем класс для узлов"
      ],
      "metadata": {
        "id": "HpTrYOPZkzB8"
      }
    },
    {
      "cell_type": "code",
      "source": [
        "class classNode:\n",
        "  value = None\n",
        "  next_node = None\n",
        "  def __init__(self, value, next_node = None):\n",
        "    self.value = value\n",
        "    self.next_node = next_node\n",
        "    "
      ],
      "metadata": {
        "id": "suDyfRbSh_-o"
      },
      "execution_count": null,
      "outputs": []
    },
    {
      "cell_type": "markdown",
      "source": [
        "## Определяем класс нашего односвязного списка"
      ],
      "metadata": {
        "id": "uYQC4XeQk2bR"
      }
    },
    {
      "cell_type": "code",
      "source": [
        "class Stack:\n",
        "  head_node = None\n",
        "  tail = None\n",
        "\n",
        "  def push(self, value):\n",
        "    if (self.head_node == None):\n",
        "      self.head_node = classNode(value)\n",
        "      self.tail = self.head_node\n",
        "      return value\n",
        "    node = self.head_node\n",
        "    while node.next_node:\n",
        "      node = node.next_node\n",
        "    node.next_node = classNode(value)\n",
        "    self.tail = node.next_node\n",
        "\n",
        "  def count(self):\n",
        "    count = 0\n",
        "    node = self.head_node\n",
        "    while node.next_node:\n",
        "      count += 1\n",
        "      node = node.next_node\n",
        "    count += 1\n",
        "    return count\n",
        "    \n",
        "\n",
        "  def pop(self):\n",
        "    if self.head_node is None:\n",
        "      print(\"List is empty\")\n",
        "      return\n",
        "    if self.head_node.next_node is None:\n",
        "      self.head_node = None\n",
        "      print(\"Nothing left\")\n",
        "      return\n",
        "    current_node = self.head_node\n",
        "    prev_node = None\n",
        "    while current_node.next_node:\n",
        "      prev_node = current_node\n",
        "      current_node = current_node.next_node\n",
        "    self.tail = prev_node\n",
        "    self.tail.next_node = None\n",
        "\n",
        "  def out(self):\n",
        "    current_node = self.head_node\n",
        "    while current_node.next_node:\n",
        "      print(current_node.value)\n",
        "      current_node = current_node.next_node\n",
        "    print(current_node.value)\n",
        "\n",
        "  def contains(self, value):\n",
        "    node = self.head_node\n",
        "    while node:\n",
        "      if node.value == value:\n",
        "        return True\n",
        "      node = node.next_node\n",
        "    return False\n",
        "\n",
        "  def detect_loop(self):\n",
        "    if self.tail.next_node == self.head_node:\n",
        "      return True\n",
        "    return False\n",
        "\n",
        "  def flatten(self):\n",
        "    node = self.head_node\n",
        "    while True:\n",
        "      yield node.value\n",
        "      node = node.next_node\n"
      ],
      "metadata": {
        "id": "OZJCdKuukJjj"
      },
      "execution_count": null,
      "outputs": []
    },
    {
      "cell_type": "markdown",
      "source": [
        "## Проверка наших методов"
      ],
      "metadata": {
        "id": "geoUXZJzk_y-"
      }
    },
    {
      "cell_type": "code",
      "source": [
        "stack = Stack()\n",
        "stack.push(1)\n",
        "stack.push(2)\n",
        "stack.push(3)\n",
        "stack.push(4)\n",
        "stack.push(5)\n",
        "stack.push(6)\n",
        "\n",
        "stack.pop()\n",
        "stack.push(7)\n",
        "\n",
        "gen = stack.flatten()\n",
        "size = stack.count()\n",
        "for i in range(size):\n",
        "  print(next(gen))\n",
        "\n",
        "\n",
        "print(f\"The tail value: {stack.tail.value} \")\n",
        "print(f\"Stack size : {stack.count()}\")\n",
        "print(f\"Contains or not: {stack.contains(1)} \")\n",
        "print(f\"Looping stack or not: {stack.detect_loop()}\")\n",
        "stack.out()"
      ],
      "metadata": {
        "colab": {
          "base_uri": "https://localhost:8080/"
        },
        "id": "jjetnAYqlEEv",
        "outputId": "ad7b3159-4038-42e2-b840-ff28dc454e5f"
      },
      "execution_count": null,
      "outputs": [
        {
          "output_type": "stream",
          "name": "stdout",
          "text": [
            "1\n",
            "2\n",
            "3\n",
            "4\n",
            "5\n",
            "7\n",
            "The tail value: 7 \n",
            "Stack size : 6\n",
            "Contains or not: True \n",
            "Looping stack or not: False\n",
            "1\n",
            "2\n",
            "3\n",
            "4\n",
            "5\n",
            "7\n"
          ]
        }
      ]
    },
    {
      "cell_type": "markdown",
      "source": [
        "# Реализация CircularDeque"
      ],
      "metadata": {
        "id": "2uxxlRQ4stbR"
      }
    },
    {
      "cell_type": "code",
      "source": [
        "from typing import Any, Generator"
      ],
      "metadata": {
        "id": "3SGq2ZlDs0jt"
      },
      "execution_count": null,
      "outputs": []
    },
    {
      "cell_type": "code",
      "source": [
        "class CircularDequeNode:\n",
        "  value = None\n",
        "  next_node = None\n",
        "  prev_node = None\n",
        "  \n",
        "  def __init__(self, value, next_node = None, prev_node = None):\n",
        "    self.value = value\n",
        "    self.next_node = next_node\n",
        "    self.prev_node = prev_node\n"
      ],
      "metadata": {
        "id": "14fG5dgsr7p0"
      },
      "execution_count": null,
      "outputs": []
    },
    {
      "cell_type": "code",
      "source": [
        "class CircularDeque:\n",
        "  start_node = None\n",
        "  tail = None\n",
        "\n",
        "  def push_head(self,value):\n",
        "    if self.start_node is None:\n",
        "      self.start_node = CircularDequeNode(value)\n",
        "      self.start_node.next_node = self.start_node\n",
        "      self.start_node.prev_node = self.start_node\n",
        "      return\n",
        "    if self.start_node.next_node == self.start_node:\n",
        "      new_node = CircularDequeNode(value)\n",
        "      new_node.next_node = self.start_node\n",
        "      new_node.prev_node = self.start_node\n",
        "      self.start_node.next_node = new_node\n",
        "      self.start_node.prev_node = new_node\n",
        "      self.start_node = new_node\n",
        "      return\n",
        "    new_node = CircularDequeNode(value)\n",
        "    new_node.next_node = self.start_node\n",
        "    new_node.prev_node = self.start_node.prev_node\n",
        "    pre_node = self.start_node.prev_node\n",
        "    self.start_node.prev_node = new_node\n",
        "    pre_node.next_node = new_node\n",
        "    self.start_node = new_node\n",
        "\n",
        "  def push_tail(self,value):\n",
        "    if self.start_node is None:\n",
        "      self.start_node = CircularDequeNode(value)\n",
        "      self.start_node.next_node = self.start_node\n",
        "      self.start_node.prev_node = self.start_node\n",
        "      return\n",
        "    if self.start_node.next_node == self.start_node:\n",
        "      new_node = CircularDequeNode(value)\n",
        "      new_node.next_node = self.start_node\n",
        "      new_node.prev_node = self.start_node\n",
        "      self.start_node.next_node = new_node\n",
        "      self.start_node.prev_node = new_node\n",
        "      return\n",
        "    node = self.start_node\n",
        "    while node.next_node != self.start_node:\n",
        "      node = node.next_node\n",
        "    new_node = CircularDequeNode(value)\n",
        "    new_node.next_node = self.start_node\n",
        "    new_node.prev_node = node\n",
        "    node.next_node = new_node\n",
        "    self.start_node.prev_node = new_node\n",
        "\n",
        "\n",
        "  def pop_head(self):\n",
        "    if self.start_node is None:\n",
        "      print(\"List is empty\")\n",
        "      return\n",
        "    elif (self.start_node == self.start_node.next_node):\n",
        "        self.start_node.next_node = None\n",
        "        self.start_node.prev_node = None\n",
        "        self.start_node = None\n",
        "        print(\"Nothing left\")\n",
        "        return\n",
        "    else:\n",
        "      next_node = self.start_node.next_node\n",
        "      pre_node = self.start_node.prev_node\n",
        "      self.start_node = next_node\n",
        "      self.start_node.next_node = next_node.next_node\n",
        "      self.start_node.prev_node = pre_node\n",
        "      pre_node.next_node = self.start_node\n",
        "\n",
        "  def pop_tail(self):\n",
        "    if self.start_node is None:\n",
        "      print(\"List is empty\")\n",
        "    elif (self.start_node == self.start_node.next_node):\n",
        "        self.start_node.next_node = None\n",
        "        self.start_node.prev_node = None\n",
        "        self.start_node = None\n",
        "        print(\"Nothing left\")\n",
        "        return\n",
        "    else:\n",
        "      node = self.start_node\n",
        "      while node.next_node != self.start_node:\n",
        "        node = node.next_node\n",
        "      pre_node = node.prev_node\n",
        "      pre_node.next_node = self.start_node\n",
        "      pre_node.prev_node = pre_node.prev_node\n",
        "      self.start_node.prev_node = pre_node\n",
        "\n",
        "  def flatten(self):\n",
        "    node = self.start_node\n",
        "    while True:\n",
        "      yield node.value\n",
        "      node = node.next_node\n",
        "\n",
        "  def flatten_reversed(self):\n",
        "    node = self.start_node.prev_node\n",
        "    while True:\n",
        "      yield node.value\n",
        "      node = node.prev_node\n",
        "\n",
        "  def __contains__(self, value):\n",
        "    node = self.start_node\n",
        "    while node.next_node != self.start_node:\n",
        "      if (node.value == value) | (node.next_node.value == value):\n",
        "        return True\n",
        "      node = node.next_node\n",
        "    return False"
      ],
      "metadata": {
        "id": "8fFdlAdUxsIr"
      },
      "execution_count": null,
      "outputs": []
    },
    {
      "cell_type": "markdown",
      "source": [
        "## Проверка"
      ],
      "metadata": {
        "id": "fKtzl4qjwCmv"
      }
    },
    {
      "cell_type": "code",
      "source": [
        "cd = CircularDeque()\n",
        "\n",
        "cd.push_head(3)\n",
        "cd.push_head(2)\n",
        "cd.push_head(1)\n",
        "cd.push_tail(6)\n",
        "cd.push_tail(7)\n",
        "\n",
        "cd.pop_head()\n",
        "cd.pop_tail()\n",
        "# cd.pop_tail()\n",
        "# cd.pop_tail()\n",
        "\n",
        "print(\"Straight gen\")\n",
        "gen = cd.flatten()\n",
        "print(next(gen))\n",
        "print(next(gen))\n",
        "print(next(gen))\n",
        "print(next(gen))\n",
        "print(next(gen))\n",
        "print(next(gen))\n",
        "print(next(gen))\n",
        "print(next(gen))\n",
        "print(next(gen))\n",
        "\n",
        "print(\"Reversed gen\")\n",
        "gen1 = cd.flatten_reversed()\n",
        "print(next(gen1))\n",
        "print(next(gen1))\n",
        "print(next(gen1))\n",
        "print(next(gen1))\n",
        "print(next(gen1))\n",
        "print(next(gen1))\n",
        "print(next(gen1))\n",
        "\n",
        "print(f\"Contains or not: {cd.__contains__(6)}\")\n"
      ],
      "metadata": {
        "colab": {
          "base_uri": "https://localhost:8080/"
        },
        "id": "Io1rhsYewCK-",
        "outputId": "8a4b5e81-6e67-41d6-cc99-39691b929166"
      },
      "execution_count": null,
      "outputs": [
        {
          "output_type": "stream",
          "name": "stdout",
          "text": [
            "Straight gen\n",
            "2\n",
            "3\n",
            "6\n",
            "2\n",
            "3\n",
            "6\n",
            "2\n",
            "3\n",
            "6\n",
            "Reversed gen\n",
            "6\n",
            "3\n",
            "2\n",
            "6\n",
            "3\n",
            "2\n",
            "6\n",
            "Contains or not: True\n"
          ]
        }
      ]
    },
    {
      "cell_type": "markdown",
      "source": [
        "## Реализация Бинарного Дерева"
      ],
      "metadata": {
        "id": "_-P5pSb8FoFj"
      }
    },
    {
      "cell_type": "code",
      "source": [
        "from typing import Any, Generator"
      ],
      "metadata": {
        "id": "g6jFtwm3FreE"
      },
      "execution_count": null,
      "outputs": []
    },
    {
      "cell_type": "code",
      "source": [
        "class treeNode:\n",
        "  value = None\n",
        "  left_node = None\n",
        "  right_node = None\n",
        "\n",
        "  def __init__(self, value, left_node = None, right_node = None):\n",
        "    self.value = value\n",
        "    self.left_node = left_node\n",
        "    self.right_node = right_node"
      ],
      "metadata": {
        "id": "af_uUKwTF6mk"
      },
      "execution_count": null,
      "outputs": []
    },
    {
      "cell_type": "code",
      "source": [
        "class binaryTree:\n",
        "  root = None\n",
        "  current = None\n",
        "\n",
        "  def push(self, item):\n",
        "    if self.root is None:\n",
        "      self.root = treeNode(item)\n",
        "      return\n",
        "    node = self.root\n",
        "    while True:\n",
        "      if (item < node.value):\n",
        "        if node.left_node is None:\n",
        "          node.left_node = treeNode(item)\n",
        "          return\n",
        "        node = node.left_node\n",
        "      elif (item > node.value):\n",
        "        if node.right_node is None:\n",
        "          node.right_node = treeNode(item)\n",
        "          return\n",
        "        node = node.right_node\n",
        "      else:\n",
        "        raise ValueError\n",
        "\n",
        "  def getMinimumKey(self,curr):\n",
        "    while curr.left_node:\n",
        "        curr = curr.left_node\n",
        "    return curr\n",
        "\n",
        "  def pop(self, item):\n",
        "    parent = None\n",
        "    curr = self.root\n",
        "    while curr and curr.value != item:\n",
        "        parent = curr\n",
        "        if item < curr.value:\n",
        "            curr = curr.left_node\n",
        "        else:\n",
        "            curr = curr.right_node\n",
        "    if curr is None:\n",
        "        return \n",
        "    if curr.left_node is None and curr.right_node is None:\n",
        "        if curr != self.root:\n",
        "            if parent.left_node == curr:\n",
        "                parent.left_node = None\n",
        "            else:\n",
        "                parent.right_node = None\n",
        "        else:\n",
        "            self.root = None\n",
        " \n",
        "    elif curr.left_node and curr.right_node:\n",
        "        minimum_from_right = self.get_minimum_key(curr.right_node)\n",
        "        val = minimum_from_right.value\n",
        "        self.pop(minimum_from_right.value)\n",
        "        curr.value = val\n",
        "    else:\n",
        "        if curr.left_node:\n",
        "            child = curr.left_node\n",
        "        else:\n",
        "            child = curr.right_node\n",
        "        if curr != self.root:\n",
        "            if curr == parent.left_node:\n",
        "                parent.left_node = child\n",
        "            else:\n",
        "                parent.right_node = child\n",
        "        else:\n",
        "            self.root = child\n",
        " \n",
        "    return self.root\n",
        "\n",
        "\n",
        "  def recursive_traversal_inorder(self, node):\n",
        "      if node:\n",
        "        yield from self.recursive_traversal_inorder(node.left_node)\n",
        "        yield node.value\n",
        "        for node in self.recursive_traversal_inorder(node.right_node):\n",
        "          yield node\n",
        "\n",
        "  def recursive_traversal_backorder(self, node):\n",
        "      if node:\n",
        "        yield from self.recursive_traversal_backorder(node.right_node)\n",
        "        yield node.value\n",
        "        for node in self.recursive_traversal_backorder(node.left_node):\n",
        "          yield node\n",
        "     \n",
        "\n",
        "  def flatten_l2r(self):\n",
        "    return self.recursive_traversal_inorder(self.root)\n",
        "\n",
        "\n",
        "  def flatten_r2l(self):\n",
        "    return self.recursive_traversal_backorder(self.root)\n",
        "\n",
        "\n",
        "  def flatten_2b(self):\n",
        "    nodes = [self.root]\n",
        "    while True:\n",
        "      node = nodes.pop(0)\n",
        "      yield node.value\n",
        "      if node.left_node:\n",
        "        nodes.append(node.left_node)\n",
        "      if node.right_node:\n",
        "        nodes.append(node.right_node)\n",
        "\n",
        "  def __contains__(self, item):\n",
        "    node = self.root\n",
        "    while True:\n",
        "      if (item < node.value):\n",
        "        if node.left_node:\n",
        "          node = node.left_node\n",
        "        else:\n",
        "          return False\n",
        "      elif (item > node.value):\n",
        "        if node.right_node:\n",
        "          node = node.right_node\n",
        "        else:\n",
        "          return False\n",
        "      else:\n",
        "        return True\n",
        "   \n",
        " \n"
      ],
      "metadata": {
        "id": "z7ijnjAZFv1H"
      },
      "execution_count": null,
      "outputs": []
    },
    {
      "cell_type": "markdown",
      "source": [
        "## Проверка решений"
      ],
      "metadata": {
        "id": "rRW_5CO82-hw"
      }
    },
    {
      "cell_type": "code",
      "source": [
        "bt = binaryTree()\n",
        "bt.push(8)\n",
        "bt.push(6)\n",
        "bt.push(4)\n",
        "bt.push(10)\n",
        "bt.push(7)\n",
        "bt.push(9)\n",
        "bt.push(12)\n",
        "bt.push(11)\n",
        "bt.push(14)\n",
        "bt.push(5)\n",
        "\n",
        "bt.pop(4)\n",
        "\n",
        "print(f\"Contains or not: {bt.__contains__(7)}\")\n",
        "\n",
        "gen1 = bt.flatten_l2r()\n",
        "gen2 = bt.flatten_r2l()\n",
        "gen3 = bt.flatten_2b()\n",
        "\n",
        "print(\"From smaller to largest\")\n",
        "\n",
        "while True:\n",
        "  try:\n",
        "    print(next(gen1))\n",
        "  except Exception:\n",
        "    break\n",
        "\n",
        "print(\"From largest to smaller\")\n",
        "while True:\n",
        "  try:\n",
        "    print(next(gen2))\n",
        "  except Exception:\n",
        "    break\n",
        "  \n",
        "\n",
        "print(\"From top to bottom\")\n",
        "while True:\n",
        "  try:\n",
        "    print(next(gen3))\n",
        "  except Exception:\n",
        "    break"
      ],
      "metadata": {
        "colab": {
          "base_uri": "https://localhost:8080/"
        },
        "id": "ItfR8bmf3BBf",
        "outputId": "30ffc86b-8d59-40e9-adf9-b0b403eb64b3"
      },
      "execution_count": null,
      "outputs": [
        {
          "output_type": "stream",
          "name": "stdout",
          "text": [
            "Contains or not: True\n",
            "From smaller to largest\n",
            "5\n",
            "6\n",
            "7\n",
            "8\n",
            "9\n",
            "10\n",
            "11\n",
            "12\n",
            "14\n",
            "From largest to smaller\n",
            "14\n",
            "12\n",
            "11\n",
            "10\n",
            "9\n",
            "8\n",
            "7\n",
            "6\n",
            "5\n",
            "From top to bottom\n",
            "8\n",
            "6\n",
            "10\n",
            "5\n",
            "7\n",
            "9\n",
            "12\n",
            "11\n",
            "14\n"
          ]
        }
      ]
    },
    {
      "cell_type": "markdown",
      "source": [
        "## Обход приватности\n",
        "\n",
        "---\n",
        "\n"
      ],
      "metadata": {
        "id": "r6nMX_HQXJRB"
      }
    },
    {
      "cell_type": "code",
      "source": [
        "class Student:\n",
        "\n",
        "  @staticmethod\n",
        "  def __show_message():\n",
        "    return 5\n",
        "\n",
        "  def generator(self):\n",
        "    name = \"\"\n",
        "    while True:\n",
        "      name = yield name\n",
        "      print(name)\n",
        "\n",
        "\n",
        "\n",
        "student = Student()\n",
        "gen = student.generator()\n",
        "print(next(gen))\n",
        "gen.send(\"Andrey Ivanov\")\n",
        "\n",
        "# student._Student__show_message()\n",
        "    \n",
        "\n"
      ],
      "metadata": {
        "colab": {
          "base_uri": "https://localhost:8080/"
        },
        "id": "6CKBnNFMXMn1",
        "outputId": "d09a03a2-5685-4b9e-deca-d7783d36aa92"
      },
      "execution_count": null,
      "outputs": [
        {
          "output_type": "stream",
          "name": "stdout",
          "text": [
            "\n",
            "Andrey Ivanov\n"
          ]
        },
        {
          "output_type": "execute_result",
          "data": {
            "text/plain": [
              "5"
            ]
          },
          "metadata": {},
          "execution_count": 39
        }
      ]
    },
    {
      "cell_type": "code",
      "source": [],
      "metadata": {
        "id": "0vszDHC_hK9f"
      },
      "execution_count": null,
      "outputs": []
    }
  ]
}